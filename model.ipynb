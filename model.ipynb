{
 "cells": [
  {
   "cell_type": "code",
   "execution_count": 1,
   "metadata": {},
   "outputs": [],
   "source": [
    "import math\n",
    "import pickle\n",
    "import numpy as np\n",
    "import torch\n",
    "import torch.nn as nn\n",
    "import torch.nn.functional as F\n",
    "\n",
    "from model import HDDriveDQN, HDMapSensorDQN, hd_net_args\n",
    "from srunner.tools import dotdict"
   ]
  },
  {
   "cell_type": "code",
   "execution_count": 2,
   "metadata": {},
   "outputs": [
    {
     "data": {
      "text/plain": [
       "dict_keys(['frame', 'accelerometer', 'gyroscope', 'compass', 'gnss', 'velocity', 'hd_map', 'front_rgb'])"
      ]
     },
     "execution_count": 2,
     "metadata": {},
     "output_type": "execute_result"
    }
   ],
   "source": [
    "with open('state.pickle', 'rb') as fp:\n",
    "    state = pickle.load(fp)\n",
    "state.keys()"
   ]
  },
  {
   "cell_type": "code",
   "execution_count": 3,
   "metadata": {},
   "outputs": [],
   "source": [
    "h_size = 128\n",
    "hd_sensor_model = HDMapSensorDQN((3,96,96), 7, p=0.3)\n",
    "npImg_to_tensor = lambda x: torch.tensor(np.expand_dims(x.transpose(2,0,1), axis=0), dtype=torch.float32)"
   ]
  },
  {
   "cell_type": "code",
   "execution_count": 4,
   "metadata": {},
   "outputs": [
    {
     "data": {
      "text/plain": [
       "(torch.Size([1, 3, 96, 96]),\n",
       " torch.Size([1, 3, 96, 96]),\n",
       " torch.Size([1, 3]),\n",
       " torch.Size([1, 3]),\n",
       " torch.Size([1, 1]),\n",
       " torch.Size([1]))"
      ]
     },
     "execution_count": 4,
     "metadata": {},
     "output_type": "execute_result"
    }
   ],
   "source": [
    "acc_X = torch.tensor(state['accelerometer'], dtype=torch.float32).unsqueeze(0)\n",
    "comp_X = torch.tensor(state['compass'], dtype=torch.float32).unsqueeze(0)\n",
    "gyro_X = torch.tensor(state['gyroscope'], dtype=torch.float32).unsqueeze(0)\n",
    "bev_X = npImg_to_tensor(state['hd_map'])\n",
    "front_X = npImg_to_tensor(state['front_rgb'])\n",
    "vel_X = torch.tensor(state['velocity']).unsqueeze(0)\n",
    "bev_X.shape, front_X.shape, acc_X.shape, gyro_X.shape, comp_X.shape, vel_X.shape"
   ]
  },
  {
   "cell_type": "code",
   "execution_count": 5,
   "metadata": {},
   "outputs": [
    {
     "data": {
      "text/plain": [
       "(torch.Size([1, 32, 128]),\n",
       " torch.Size([1, 32, 128]),\n",
       " torch.Size([1, 32, 128]),\n",
       " torch.Size([1, 32, 128]))"
      ]
     },
     "execution_count": 5,
     "metadata": {},
     "output_type": "execute_result"
    }
   ],
   "source": [
    "bev_X_h, front_X_h, ego_X_h, vel_X_h = hd_sensor_model(bev_X.repeat(32,1,1,1), front_X.repeat(32,1,1,1), acc_X.repeat(32,1), comp_X.repeat(32,1), gyro_X.repeat(32,1), vel_X.repeat(32))\n",
    "bev_X_h.shape, front_X_h.shape, ego_X_h.shape, vel_X_h.shape"
   ]
  },
  {
   "cell_type": "code",
   "execution_count": 6,
   "metadata": {},
   "outputs": [],
   "source": [
    "args = hd_net_args\n",
    "hd_drive_net = HDDriveDQN(args)"
   ]
  },
  {
   "cell_type": "code",
   "execution_count": 7,
   "metadata": {},
   "outputs": [
    {
     "data": {
      "text/plain": [
       "torch.Size([4, 32, 3, 96, 96])"
      ]
     },
     "execution_count": 7,
     "metadata": {},
     "output_type": "execute_result"
    }
   ],
   "source": [
    "bev_X.repeat(4,32,1,1,1).shape"
   ]
  },
  {
   "cell_type": "code",
   "execution_count": 8,
   "metadata": {},
   "outputs": [
    {
     "name": "stdout",
     "output_type": "stream",
     "text": [
      "torch.Size([4, 32, 128]) torch.Size([4, 32, 128])\n",
      "torch.Size([4, 32, 128]) torch.Size([4, 32, 128])\n",
      "torch.Size([4, 32, 128]) torch.Size([4, 32, 128])\n",
      "torch.Size([4, 32, 128]) torch.Size([4, 32, 128])\n"
     ]
    }
   ],
   "source": [
    "steering_q_vals, throttle_q_vals, brake_q_vals, t_or_b_vals = hd_drive_net(bev_X.repeat(args.n_frames,32,1,1,1), \n",
    "             front_X.repeat(args.n_frames, 32,1,1,1), \n",
    "             acc_X.repeat(args.n_frames, 32,1), \n",
    "             comp_X.repeat(args.n_frames, 32,1), \n",
    "             gyro_X.repeat(args.n_frames, 32,1), \n",
    "             vel_X.repeat(args.n_frames, 32))"
   ]
  },
  {
   "cell_type": "code",
   "execution_count": 9,
   "metadata": {},
   "outputs": [
    {
     "data": {
      "text/plain": [
       "(torch.Size([32, 10]), torch.Size([32, 10]), torch.Size([32, 10]))"
      ]
     },
     "execution_count": 9,
     "metadata": {},
     "output_type": "execute_result"
    }
   ],
   "source": [
    "steering_q_vals.shape, throttle_q_vals.shape, brake_q_vals.shape"
   ]
  },
  {
   "cell_type": "code",
   "execution_count": 10,
   "metadata": {},
   "outputs": [
    {
     "data": {
      "text/plain": [
       "(750784, 661632, 661632, 1290, 1290, 1290, 258)"
      ]
     },
     "execution_count": 10,
     "metadata": {},
     "output_type": "execute_result"
    }
   ],
   "source": [
    "sensor_params = sum(p.numel() for p in hd_drive_net.sensor_net.parameters())\n",
    "fusion_params = sum(p.numel() for p in hd_drive_net.fusion_net.parameters())\n",
    "temporal_params = sum(p.numel() for p in hd_drive_net.temporal_net.parameters())\n",
    "throttle_params = sum(p.numel() for p in hd_drive_net.throttle_net.parameters())\n",
    "steering_params = sum(p.numel() for p in hd_drive_net.steering_net.parameters())\n",
    "brake_params = sum(p.numel() for p in hd_drive_net.brake_net.parameters())\n",
    "t_or_b_params = sum(p.numel() for p in hd_drive_net.t_or_b_net.parameters())\n",
    "sensor_params, fusion_params, temporal_params, throttle_params, steering_params, brake_params, t_or_b_params"
   ]
  },
  {
   "cell_type": "code",
   "execution_count": 11,
   "metadata": {},
   "outputs": [
    {
     "data": {
      "text/plain": [
       "2078176"
      ]
     },
     "execution_count": 11,
     "metadata": {},
     "output_type": "execute_result"
    }
   ],
   "source": [
    "sum(p.numel() for p in hd_drive_net.parameters())"
   ]
  },
  {
   "cell_type": "code",
   "execution_count": null,
   "metadata": {},
   "outputs": [],
   "source": []
  }
 ],
 "metadata": {
  "kernelspec": {
   "display_name": "drive_env",
   "language": "python",
   "name": "drive_env"
  },
  "language_info": {
   "codemirror_mode": {
    "name": "ipython",
    "version": 3
   },
   "file_extension": ".py",
   "mimetype": "text/x-python",
   "name": "python",
   "nbconvert_exporter": "python",
   "pygments_lexer": "ipython3",
   "version": "3.8.10"
  },
  "orig_nbformat": 4,
  "vscode": {
   "interpreter": {
    "hash": "205595cd1daa4a192140885c104c4ea416cf31c31e44558713cd0df72bb67f19"
   }
  }
 },
 "nbformat": 4,
 "nbformat_minor": 2
}
