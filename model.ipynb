{
 "cells": [
  {
   "cell_type": "code",
   "execution_count": 29,
   "metadata": {},
   "outputs": [
    {
     "name": "stdout",
     "output_type": "stream",
     "text": [
      "The autoreload extension is already loaded. To reload it, use:\n",
      "  %reload_ext autoreload\n"
     ]
    }
   ],
   "source": [
    "import math\n",
    "import pickle\n",
    "import numpy as np\n",
    "import torch\n",
    "import torch.nn as nn\n",
    "import torch.nn.functional as F\n",
    "from collections import deque \n",
    "import random\n",
    "import matplotlib.pyplot as plt\n",
    "import pandas as pd\n",
    "\n",
    "from model import HDDriveDQN, HDMapSensorDQN, hd_net_args, HDMapSensorDQN_V0, HDDriveDQN_V0_GRU\n",
    "\n",
    "from agent import MemoryBufferSimple, DQN_Agent, MemoryBufferSeparated\n",
    "import random\n",
    "import itertools\n",
    "from srunner.tools import dotdict\n",
    "%load_ext autoreload\n",
    "%autoreload 2"
   ]
  },
  {
   "cell_type": "code",
   "execution_count": 44,
   "metadata": {},
   "outputs": [
    {
     "data": {
      "text/plain": [
       "{'category': ['straight', 'curved'],\n",
       " 'type': ['s1', 'c1'],\n",
       " 'name': ['sok', 'cok'],\n",
       " 'collisionCount': [7, 9],\n",
       " 'wrongLaneCount': [5, 0],\n",
       " 'outsideDrivingLanesCount': [3, 0],\n",
       " 'offRoadCount': [0, 152],\n",
       " 'routeCompletionPer': [1, 2]}"
      ]
     },
     "execution_count": 44,
     "metadata": {},
     "output_type": "execute_result"
    }
   ],
   "source": [
    "stats = {\n",
    "'category':['straight','curved'],\n",
    "'type': ['s1','c1'],\n",
    "'name': ['sok','cok'],\n",
    "'collisionCount': [7,9],\n",
    "'wrongLaneCount': [5,0],\n",
    "'outsideDrivingLanesCount': [3,0],\n",
    "'offRoadCount': [0,152],\n",
    "'routeCompletionPer': [1,2]\n",
    "}\n",
    "stats"
   ]
  },
  {
   "cell_type": "code",
   "execution_count": 70,
   "metadata": {},
   "outputs": [
    {
     "data": {
      "text/html": [
       "<div>\n",
       "<style scoped>\n",
       "    .dataframe tbody tr th:only-of-type {\n",
       "        vertical-align: middle;\n",
       "    }\n",
       "\n",
       "    .dataframe tbody tr th {\n",
       "        vertical-align: top;\n",
       "    }\n",
       "\n",
       "    .dataframe thead th {\n",
       "        text-align: right;\n",
       "    }\n",
       "</style>\n",
       "<table border=\"1\" class=\"dataframe\">\n",
       "  <thead>\n",
       "    <tr style=\"text-align: right;\">\n",
       "      <th></th>\n",
       "      <th>category</th>\n",
       "      <th>type</th>\n",
       "      <th>name</th>\n",
       "      <th>collisionCount</th>\n",
       "      <th>wrongLaneCount</th>\n",
       "      <th>outsideDrivingLanesCount</th>\n",
       "      <th>offRoadCount</th>\n",
       "      <th>routeCompletionPer</th>\n",
       "    </tr>\n",
       "    <tr>\n",
       "      <th>idx</th>\n",
       "      <th></th>\n",
       "      <th></th>\n",
       "      <th></th>\n",
       "      <th></th>\n",
       "      <th></th>\n",
       "      <th></th>\n",
       "      <th></th>\n",
       "      <th></th>\n",
       "    </tr>\n",
       "  </thead>\n",
       "  <tbody>\n",
       "    <tr>\n",
       "      <th>0</th>\n",
       "      <td>straight</td>\n",
       "      <td>s1</td>\n",
       "      <td>sok</td>\n",
       "      <td>7</td>\n",
       "      <td>5</td>\n",
       "      <td>3</td>\n",
       "      <td>0</td>\n",
       "      <td>1</td>\n",
       "    </tr>\n",
       "    <tr>\n",
       "      <th>1</th>\n",
       "      <td>curved</td>\n",
       "      <td>c1</td>\n",
       "      <td>cok</td>\n",
       "      <td>9</td>\n",
       "      <td>0</td>\n",
       "      <td>0</td>\n",
       "      <td>152</td>\n",
       "      <td>2</td>\n",
       "    </tr>\n",
       "  </tbody>\n",
       "</table>\n",
       "</div>"
      ],
      "text/plain": [
       "     category type name  collisionCount  wrongLaneCount  \\\n",
       "idx                                                       \n",
       "0    straight   s1  sok               7               5   \n",
       "1      curved   c1  cok               9               0   \n",
       "\n",
       "     outsideDrivingLanesCount  offRoadCount  routeCompletionPer  \n",
       "idx                                                              \n",
       "0                           3             0                   1  \n",
       "1                           0           152                   2  "
      ]
     },
     "execution_count": 70,
     "metadata": {},
     "output_type": "execute_result"
    }
   ],
   "source": [
    "df_stats = pd.DataFrame(stats)\n",
    "df_stats.index = pd.Index(range(len(df_stats)), name='idx')\n",
    "df_stats.to_csv('eval_stats.csv')\n",
    "df_stats"
   ]
  },
  {
   "cell_type": "code",
   "execution_count": 73,
   "metadata": {},
   "outputs": [],
   "source": [
    "df_ok_stats = pd.read_csv('eval_stats_HDDriveDQN_V0_GRU_8f_Trueres_LEG2_CURVED.csv')"
   ]
  },
  {
   "cell_type": "code",
   "execution_count": 74,
   "metadata": {},
   "outputs": [
    {
     "data": {
      "text/html": [
       "<div>\n",
       "<style scoped>\n",
       "    .dataframe tbody tr th:only-of-type {\n",
       "        vertical-align: middle;\n",
       "    }\n",
       "\n",
       "    .dataframe tbody tr th {\n",
       "        vertical-align: top;\n",
       "    }\n",
       "\n",
       "    .dataframe thead th {\n",
       "        text-align: right;\n",
       "    }\n",
       "</style>\n",
       "<table border=\"1\" class=\"dataframe\">\n",
       "  <thead>\n",
       "    <tr style=\"text-align: right;\">\n",
       "      <th></th>\n",
       "      <th>category</th>\n",
       "      <th>type</th>\n",
       "      <th>name</th>\n",
       "      <th>collisionCount</th>\n",
       "      <th>wrongLaneCount</th>\n",
       "      <th>outsideDrivingLanesCount</th>\n",
       "      <th>offRoadCount</th>\n",
       "      <th>routeCompletionPer</th>\n",
       "    </tr>\n",
       "    <tr>\n",
       "      <th>idx</th>\n",
       "      <th></th>\n",
       "      <th></th>\n",
       "      <th></th>\n",
       "      <th></th>\n",
       "      <th></th>\n",
       "      <th></th>\n",
       "      <th></th>\n",
       "      <th></th>\n",
       "    </tr>\n",
       "  </thead>\n",
       "  <tbody>\n",
       "    <tr>\n",
       "      <th>0</th>\n",
       "      <td>straight</td>\n",
       "      <td>straight</td>\n",
       "      <td>PTESTStraight_1</td>\n",
       "      <td>1</td>\n",
       "      <td>1</td>\n",
       "      <td>1</td>\n",
       "      <td>1</td>\n",
       "      <td>75.470369</td>\n",
       "    </tr>\n",
       "    <tr>\n",
       "      <th>1</th>\n",
       "      <td>straight</td>\n",
       "      <td>straight</td>\n",
       "      <td>PTESTStraight_2</td>\n",
       "      <td>0</td>\n",
       "      <td>0</td>\n",
       "      <td>0</td>\n",
       "      <td>1</td>\n",
       "      <td>85.553012</td>\n",
       "    </tr>\n",
       "    <tr>\n",
       "      <th>2</th>\n",
       "      <td>curved</td>\n",
       "      <td>left_curved</td>\n",
       "      <td>TESTLeftCurved_1</td>\n",
       "      <td>0</td>\n",
       "      <td>0</td>\n",
       "      <td>0</td>\n",
       "      <td>0</td>\n",
       "      <td>75.904912</td>\n",
       "    </tr>\n",
       "    <tr>\n",
       "      <th>3</th>\n",
       "      <td>curved</td>\n",
       "      <td>left_curved</td>\n",
       "      <td>TESTLeftCurved_2</td>\n",
       "      <td>4</td>\n",
       "      <td>0</td>\n",
       "      <td>0</td>\n",
       "      <td>2</td>\n",
       "      <td>96.430281</td>\n",
       "    </tr>\n",
       "    <tr>\n",
       "      <th>4</th>\n",
       "      <td>curved</td>\n",
       "      <td>right_curved</td>\n",
       "      <td>TESTRightCurved_1</td>\n",
       "      <td>0</td>\n",
       "      <td>1</td>\n",
       "      <td>1</td>\n",
       "      <td>1</td>\n",
       "      <td>100.000000</td>\n",
       "    </tr>\n",
       "    <tr>\n",
       "      <th>5</th>\n",
       "      <td>curved</td>\n",
       "      <td>right_curved</td>\n",
       "      <td>TESTRightCurved_2</td>\n",
       "      <td>1</td>\n",
       "      <td>1</td>\n",
       "      <td>1</td>\n",
       "      <td>1</td>\n",
       "      <td>60.781898</td>\n",
       "    </tr>\n",
       "  </tbody>\n",
       "</table>\n",
       "</div>"
      ],
      "text/plain": [
       "     category          type               name  collisionCount  \\\n",
       "idx                                                              \n",
       "0    straight      straight    PTESTStraight_1               1   \n",
       "1    straight      straight    PTESTStraight_2               0   \n",
       "2      curved   left_curved   TESTLeftCurved_1               0   \n",
       "3      curved   left_curved   TESTLeftCurved_2               4   \n",
       "4      curved  right_curved  TESTRightCurved_1               0   \n",
       "5      curved  right_curved  TESTRightCurved_2               1   \n",
       "\n",
       "     wrongLaneCount  outsideDrivingLanesCount  offRoadCount  \\\n",
       "idx                                                           \n",
       "0                 1                         1             1   \n",
       "1                 0                         0             1   \n",
       "2                 0                         0             0   \n",
       "3                 0                         0             2   \n",
       "4                 1                         1             1   \n",
       "5                 1                         1             1   \n",
       "\n",
       "     routeCompletionPer  \n",
       "idx                      \n",
       "0             75.470369  \n",
       "1             85.553012  \n",
       "2             75.904912  \n",
       "3             96.430281  \n",
       "4            100.000000  \n",
       "5             60.781898  "
      ]
     },
     "execution_count": 74,
     "metadata": {},
     "output_type": "execute_result"
    }
   ],
   "source": [
    "df_ok_stats.set_index('idx', inplace=True)\n",
    "df_ok_stats"
   ]
  },
  {
   "cell_type": "code",
   "execution_count": 24,
   "metadata": {},
   "outputs": [
    {
     "data": {
      "text/plain": [
       "(85, (85, 3))"
      ]
     },
     "execution_count": 24,
     "metadata": {},
     "output_type": "execute_result"
    }
   ],
   "source": [
    "steering_space = [-1,-0.825,-0.75,-0.625,-0.5,-0.375,-0.25, -0.125, 0, 0.125, 0.25, 0.375, 0.5, 0.625, 0.75, 0.825, 1]\n",
    "throttle_space = [0, 0.5, 1]\n",
    "brake_space = [0, 0.5, 1]\n",
    "actions = []\n",
    "for s in steering_space:\n",
    "    for t in throttle_space:\n",
    "        for b in brake_space:\n",
    "            if t == 0:\n",
    "                actions.append([s, 0, b])\n",
    "            elif b == 0:\n",
    "                actions.append([s, t, 0])\n",
    "acts = np.array(actions)\n",
    "len(actions), acts.shape"
   ]
  },
  {
   "cell_type": "code",
   "execution_count": 25,
   "metadata": {},
   "outputs": [],
   "source": [
    "action_space = hd_net_args.action_space \n",
    "space_2_idx = {tuple(act):idx for idx, act in enumerate(actions)}"
   ]
  },
  {
   "cell_type": "code",
   "execution_count": 26,
   "metadata": {},
   "outputs": [],
   "source": [
    "acts = [  [ 0.,     0.,     0.,   ], [-0.825,  0.,     0.   ], [-0.75,   0.,     0.   ], [-0.625,  0.,     0.   ], \n",
    "                                [-1.,     0.,     0.5,  ], [-0.825,  0.,     0.5  ], [-0.75,   0.,     0.5  ], [-0.625,  0.,     0.5  ],\n",
    "                                [-1.,     0.,     1.,   ], [-0.825,  0.,     1.   ], [-0.75,   0.,     1.   ], [-0.625,  0.,     1.   ],\n",
    "                                [-1.,     0.5,    0.,   ], [-0.825,  0.5,    0.   ], [-0.75,   0.5,    0.   ], [-0.625,  0.5,    0.   ],\n",
    "                                [-1.,     1.,     0.,   ], [-0.825,  1.,     0.   ], [-0.75,   1.,     0.   ], [-0.625,  1.,     0.   ],\n",
    "                                \n",
    "                                [-0.5,    0.,     0.   ], [-0.375,  0.,     0.   ], [-0.25,   0.,     0.   ], [-0.125,  0.,     0.   ], \n",
    "                                [-0.5,    0.,     0.5  ], [-0.375,  0.,     0.5  ], [-0.25,   0.,     0.5  ], [-0.125,  0.,     0.5  ],\n",
    "                                [-0.5,    0.,     1.   ], [-0.375,  0.,     1.   ], [-0.25,   0.,     1.   ], [-0.125,  0.,     1.   ],\n",
    "                                [-0.5,    0.5,    0.   ], [-0.375,  0.5,    0.   ], [-0.25,   0.5,    0.   ], [-0.125,  0.5,    0.   ],\n",
    "                                [-0.5,    1.,     0.   ], [-0.375,  1.,     0.   ], [-0.25,   1.,     0.   ], [-0.125,  1.,     0.   ],\n",
    "                                \n",
    "                                [-1.,     0.,     0.   ], [ 0.125,  0.,     0.   ], [ 0.25,   0.,     0.   ], [ 0.375,  0.,     0.   ],  \n",
    "                                [ 0.,     0.,     0.5  ], [ 0.125,  0.,     0.5  ], [ 0.25,   0.,     0.5  ], [ 0.375,  0.,     0.5  ],  \n",
    "                                [ 0.,     0.,     1.   ], [ 0.125,  0.,     1.   ], [ 0.25,   0.,     1.   ], [ 0.375,  0.,     1.   ],  \n",
    "                                [ 0,     0.5,     0.   ], [ 0.125,  0.5,    0.   ], [ 0.25,   0.5,    0.   ], [ 0.375,  0.5,    0.   ],  \n",
    "                                [ 0.,     1.,     0.   ], [ 0.125,  1.,     0.   ], [ 0.25,   1.,     0.   ], [ 0.375,  1.,     0.   ],  \n",
    "\n",
    "                                [ 0.5,    0.,     0.   ], [ 0.625,  0.,     0.   ], [ 0.75,   0.,     0.   ], [ 0.825,  0.,     0.   ], \n",
    "                                [ 0.5,    0.,     0.5  ], [ 0.625,  0.,     0.5  ], [ 0.75,   0.,     0.5  ], [ 0.825,  0.,     0.5  ],\n",
    "                                [ 0.5,    0.,     1.   ], [ 0.625,  0.,     1.   ], [ 0.75,   0.,     1.   ], [ 0.825,  0.,     1.   ],\n",
    "                                [ 0.5,    0.5,    0.   ], [ 0.625,  0.5,    0.   ], [ 0.75,   0.5,    0.   ], [ 0.825,  0.5,    0.   ],\n",
    "                                [ 0.5,    1.,     0.   ], [ 0.625,  1.,     0.   ], [ 0.75,   1.,     0.   ], [ 0.825,  1.,     0.   ],  \n",
    "\n",
    "                                [ 1.,     0.,     0.   ],\n",
    "                                [ 1.,     0.,     0.5  ],\n",
    "                                [ 1.,     0.,     1.   ],\n",
    "                                [ 1.,     0.5,    0.   ],\n",
    "                                [ 1.,     1.,     0.   ]]\n",
    "space_2_idx = {tuple(act):idx for idx, act in enumerate(acts)}"
   ]
  },
  {
   "cell_type": "code",
   "execution_count": 27,
   "metadata": {},
   "outputs": [
    {
     "data": {
      "text/plain": [
       "{(0.0, 0.0, 0.0): 0,\n",
       " (-0.825, 0.0, 0.0): 1,\n",
       " (-0.75, 0.0, 0.0): 2,\n",
       " (-0.625, 0.0, 0.0): 3,\n",
       " (-1.0, 0.0, 0.5): 4,\n",
       " (-0.825, 0.0, 0.5): 5,\n",
       " (-0.75, 0.0, 0.5): 6,\n",
       " (-0.625, 0.0, 0.5): 7,\n",
       " (-1.0, 0.0, 1.0): 8,\n",
       " (-0.825, 0.0, 1.0): 9,\n",
       " (-0.75, 0.0, 1.0): 10,\n",
       " (-0.625, 0.0, 1.0): 11,\n",
       " (-1.0, 0.5, 0.0): 12,\n",
       " (-0.825, 0.5, 0.0): 13,\n",
       " (-0.75, 0.5, 0.0): 14,\n",
       " (-0.625, 0.5, 0.0): 15,\n",
       " (-1.0, 1.0, 0.0): 16,\n",
       " (-0.825, 1.0, 0.0): 17,\n",
       " (-0.75, 1.0, 0.0): 18,\n",
       " (-0.625, 1.0, 0.0): 19,\n",
       " (-0.5, 0.0, 0.0): 20,\n",
       " (-0.375, 0.0, 0.0): 21,\n",
       " (-0.25, 0.0, 0.0): 22,\n",
       " (-0.125, 0.0, 0.0): 23,\n",
       " (-0.5, 0.0, 0.5): 24,\n",
       " (-0.375, 0.0, 0.5): 25,\n",
       " (-0.25, 0.0, 0.5): 26,\n",
       " (-0.125, 0.0, 0.5): 27,\n",
       " (-0.5, 0.0, 1.0): 28,\n",
       " (-0.375, 0.0, 1.0): 29,\n",
       " (-0.25, 0.0, 1.0): 30,\n",
       " (-0.125, 0.0, 1.0): 31,\n",
       " (-0.5, 0.5, 0.0): 32,\n",
       " (-0.375, 0.5, 0.0): 33,\n",
       " (-0.25, 0.5, 0.0): 34,\n",
       " (-0.125, 0.5, 0.0): 35,\n",
       " (-0.5, 1.0, 0.0): 36,\n",
       " (-0.375, 1.0, 0.0): 37,\n",
       " (-0.25, 1.0, 0.0): 38,\n",
       " (-0.125, 1.0, 0.0): 39,\n",
       " (-1.0, 0.0, 0.0): 40,\n",
       " (0.125, 0.0, 0.0): 41,\n",
       " (0.25, 0.0, 0.0): 42,\n",
       " (0.375, 0.0, 0.0): 43,\n",
       " (0.0, 0.0, 0.5): 44,\n",
       " (0.125, 0.0, 0.5): 45,\n",
       " (0.25, 0.0, 0.5): 46,\n",
       " (0.375, 0.0, 0.5): 47,\n",
       " (0.0, 0.0, 1.0): 48,\n",
       " (0.125, 0.0, 1.0): 49,\n",
       " (0.25, 0.0, 1.0): 50,\n",
       " (0.375, 0.0, 1.0): 51,\n",
       " (0, 0.5, 0.0): 52,\n",
       " (0.125, 0.5, 0.0): 53,\n",
       " (0.25, 0.5, 0.0): 54,\n",
       " (0.375, 0.5, 0.0): 55,\n",
       " (0.0, 1.0, 0.0): 56,\n",
       " (0.125, 1.0, 0.0): 57,\n",
       " (0.25, 1.0, 0.0): 58,\n",
       " (0.375, 1.0, 0.0): 59,\n",
       " (0.5, 0.0, 0.0): 60,\n",
       " (0.625, 0.0, 0.0): 61,\n",
       " (0.75, 0.0, 0.0): 62,\n",
       " (0.825, 0.0, 0.0): 63,\n",
       " (0.5, 0.0, 0.5): 64,\n",
       " (0.625, 0.0, 0.5): 65,\n",
       " (0.75, 0.0, 0.5): 66,\n",
       " (0.825, 0.0, 0.5): 67,\n",
       " (0.5, 0.0, 1.0): 68,\n",
       " (0.625, 0.0, 1.0): 69,\n",
       " (0.75, 0.0, 1.0): 70,\n",
       " (0.825, 0.0, 1.0): 71,\n",
       " (0.5, 0.5, 0.0): 72,\n",
       " (0.625, 0.5, 0.0): 73,\n",
       " (0.75, 0.5, 0.0): 74,\n",
       " (0.825, 0.5, 0.0): 75,\n",
       " (0.5, 1.0, 0.0): 76,\n",
       " (0.625, 1.0, 0.0): 77,\n",
       " (0.75, 1.0, 0.0): 78,\n",
       " (0.825, 1.0, 0.0): 79,\n",
       " (1.0, 0.0, 0.0): 80,\n",
       " (1.0, 0.0, 0.5): 81,\n",
       " (1.0, 0.0, 1.0): 82,\n",
       " (1.0, 0.5, 0.0): 83,\n",
       " (1.0, 1.0, 0.0): 84}"
      ]
     },
     "execution_count": 27,
     "metadata": {},
     "output_type": "execute_result"
    }
   ],
   "source": [
    "space_2_idx"
   ]
  },
  {
   "cell_type": "code",
   "execution_count": 15,
   "metadata": {},
   "outputs": [],
   "source": [
    "def real_to_space_idx(space, val, delta):\n",
    "    idx = len(space)-1\n",
    "    for i in range(len(space)):\n",
    "            if val - delta < space[i]:\n",
    "                idx = i \n",
    "                break\n",
    "    return idx"
   ]
  },
  {
   "cell_type": "code",
   "execution_count": 16,
   "metadata": {},
   "outputs": [
    {
     "data": {
      "text/plain": [
       "0.5"
      ]
     },
     "execution_count": 16,
     "metadata": {},
     "output_type": "execute_result"
    }
   ],
   "source": [
    "idx = real_to_space_idx(brake_space, 0.5, 0.5/2)\n",
    "brake_space[idx]"
   ]
  },
  {
   "cell_type": "code",
   "execution_count": 22,
   "metadata": {},
   "outputs": [
    {
     "data": {
      "text/plain": [
       "([0.625, 0.0, 1.0], 69)"
      ]
     },
     "execution_count": 22,
     "metadata": {},
     "output_type": "execute_result"
    }
   ],
   "source": [
    "act = {'steer':0.6, 'throttle':0, 'brake': 1}\n",
    "brake_space = throttle_space\n",
    "steer_delta = 0.2/2\n",
    "delta = 0.1/2\n",
    "\n",
    "def act_to_discrete(act, steering_space, throttle_space, brake_space,\n",
    "                    steer_delta, delta, space_2_idx):\n",
    "    throttle_used = True if act['throttle'] > 0 else False \n",
    "        \n",
    "    steering_idx = real_to_space_idx(steering_space, act['steer'], steer_delta)\n",
    "    steer_val = steering_space[steering_idx]\n",
    "    if throttle_used:\n",
    "        throttle_idx = real_to_space_idx(throttle_space, act['throttle'], delta)\n",
    "        throttle_val = throttle_space[throttle_idx]\n",
    "        brake_val = 0\n",
    "    else: \n",
    "        brake_idx = real_to_space_idx(brake_space, act['brake'], delta)\n",
    "        brake_val = brake_space[brake_idx]\n",
    "        throttle_val = 0\n",
    "    sep_space_idxs = (steer_val, throttle_val, brake_val)\n",
    "    return space_2_idx[sep_space_idxs]\n",
    "disc_idx = act_to_discrete(act, steering_space, throttle_space, \n",
    "                brake_space, 0.125/2, 0.5/2, space_2_idx)\n",
    "acts[disc_idx], disc_idx"
   ]
  },
  {
   "cell_type": "code",
   "execution_count": 138,
   "metadata": {},
   "outputs": [
    {
     "data": {
      "text/plain": [
       "(1, 0.1)"
      ]
     },
     "execution_count": 138,
     "metadata": {},
     "output_type": "execute_result"
    }
   ],
   "source": [
    "idx = real_to_space_idx(throttle_space, 0.1, delta)\n",
    "idx, throttle_space[idx]"
   ]
  },
  {
   "cell_type": "code",
   "execution_count": 139,
   "metadata": {},
   "outputs": [
    {
     "data": {
      "text/plain": [
       "<matplotlib.collections.PathCollection at 0x15ad7894e80>"
      ]
     },
     "execution_count": 139,
     "metadata": {},
     "output_type": "execute_result"
    },
    {
     "data": {
      "image/png": "[encoded data removed]",
      "text/plain": [
       "<Figure size 640x480 with 2 Axes>"
      ]
     },
     "metadata": {},
     "output_type": "display_data"
    }
   ],
   "source": [
    "fig, ax = plt.subplots(2)\n",
    "ax[0].scatter(steer_x, steer_val)\n",
    "ax[1].scatter(throttle_x, throttle_val)\n",
    "# plt.scatter(x=steer_x, y=steer_val)"
   ]
  },
  {
   "cell_type": "code",
   "execution_count": 6,
   "metadata": {},
   "outputs": [
    {
     "data": {
      "text/plain": [
       "dict_keys(['frame', 'accelerometer', 'gyroscope', 'compass', 'gnss', 'velocity', 'hd_map', 'front_sem'])"
      ]
     },
     "execution_count": 6,
     "metadata": {},
     "output_type": "execute_result"
    }
   ],
   "source": [
    "with open('state.pickle', 'rb') as fp:\n",
    "    state = pickle.load(fp)\n",
    "state.keys()"
   ]
  },
  {
   "cell_type": "code",
   "execution_count": 7,
   "metadata": {},
   "outputs": [],
   "source": [
    "h_size = 128\n",
    "hd_net_args.device = 'cpu'\n",
    "hd_sensor_model = HDMapSensorDQN_V0((3,96,96), 7, hd_net_args, p=0.3)\n",
    "npImg_to_tensor = lambda x: torch.tensor(np.expand_dims(x.transpose(2,0,1), axis=0), dtype=torch.float32)"
   ]
  },
  {
   "cell_type": "code",
   "execution_count": 8,
   "metadata": {},
   "outputs": [
    {
     "data": {
      "text/plain": [
       "(torch.Size([1, 3, 96, 96]),\n",
       " torch.Size([1, 3, 96, 96]),\n",
       " torch.Size([1, 3]),\n",
       " torch.Size([1, 3]),\n",
       " torch.Size([1, 1]),\n",
       " torch.Size([1]))"
      ]
     },
     "execution_count": 8,
     "metadata": {},
     "output_type": "execute_result"
    }
   ],
   "source": [
    "acc_X = torch.tensor(state['accelerometer'], dtype=torch.float32).unsqueeze(0)\n",
    "comp_X = torch.tensor(state['compass'], dtype=torch.float32).unsqueeze(0)\n",
    "gyro_X = torch.tensor(state['gyroscope'], dtype=torch.float32).unsqueeze(0)\n",
    "bev_X = npImg_to_tensor(state['hd_map'])\n",
    "front_X = npImg_to_tensor(state['front_sem'])\n",
    "vel_X = torch.tensor(state['velocity']).unsqueeze(0)\n",
    "bev_X.shape, front_X.shape, acc_X.shape, gyro_X.shape, comp_X.shape, vel_X.shape"
   ]
  },
  {
   "cell_type": "code",
   "execution_count": 9,
   "metadata": {},
   "outputs": [
    {
     "data": {
      "text/plain": [
       "torch.Size([32, 384])"
      ]
     },
     "execution_count": 9,
     "metadata": {},
     "output_type": "execute_result"
    }
   ],
   "source": [
    "state_h = hd_sensor_model(bev_X.repeat(32,1,1,1), front_X.repeat(32,1,1,1), acc_X.repeat(32,1), comp_X.repeat(32,1), gyro_X.repeat(32,1), vel_X.repeat(32))\n",
    "state_h.shape"
   ]
  },
  {
   "cell_type": "code",
   "execution_count": 10,
   "metadata": {},
   "outputs": [],
   "source": [
    "X = torch.rand(16,32,128)\n",
    "n = nn.Linear(128, 128)"
   ]
  },
  {
   "cell_type": "code",
   "execution_count": 11,
   "metadata": {},
   "outputs": [
    {
     "data": {
      "text/plain": [
       "(torch.Size([16, 32, 128]), torch.Size([16, 32, 128]), tensor(False))"
      ]
     },
     "execution_count": 11,
     "metadata": {},
     "output_type": "execute_result"
    }
   ],
   "source": [
    "ts = []\n",
    "for t in X:\n",
    "    ts.append(n(t))\n",
    "ts = torch.stack(ts, dim=0)\n",
    "ts.shape, n(X).shape, (ts==n(X)).all()"
   ]
  },
  {
   "cell_type": "code",
   "execution_count": 12,
   "metadata": {},
   "outputs": [
    {
     "data": {
      "text/plain": [
       "(torch.Size([16, 32, 128]),\n",
       " torch.Size([16, 32, 128]),\n",
       " True,\n",
       " True,\n",
       " tensor(True))"
      ]
     },
     "execution_count": 12,
     "metadata": {},
     "output_type": "execute_result"
    }
   ],
   "source": [
    "ts = []\n",
    "for i in range(len(X)):\n",
    "    ts.append(n(X[i]))\n",
    "ts = torch.stack(ts, dim=0)\n",
    "all_once = n(X)\n",
    "all_smart = n(X.transpose(0,1).reshape(-1,128)).reshape(32,16,128).transpose(0,1)\n",
    "ts.shape, n(X).shape, torch.allclose(ts, all_once, atol=1e-6), torch.allclose(ts, all_smart, atol=1e-6), (all_once==all_smart).all()"
   ]
  },
  {
   "cell_type": "code",
   "execution_count": 17,
   "metadata": {},
   "outputs": [],
   "source": [
    "args = hd_net_args\n",
    "args.device = 'cpu'\n",
    "hd_drive_net = HDDriveDQN_V0_GRU(args)"
   ]
  },
  {
   "cell_type": "code",
   "execution_count": 18,
   "metadata": {},
   "outputs": [
    {
     "data": {
      "text/plain": [
       "(torch.Size([4, 32, 3, 96, 96]), torch.Size([1]))"
      ]
     },
     "execution_count": 18,
     "metadata": {},
     "output_type": "execute_result"
    }
   ],
   "source": [
    "bev_X.repeat(4,32,1,1,1).shape, vel_X.shape"
   ]
  },
  {
   "cell_type": "code",
   "execution_count": 31,
   "metadata": {},
   "outputs": [
    {
     "data": {
      "text/plain": [
       "torch.Size([32, 31])"
      ]
     },
     "execution_count": 31,
     "metadata": {},
     "output_type": "execute_result"
    }
   ],
   "source": [
    "hd_drive_net.eval()\n",
    "q_vals = hd_drive_net(bev_X.repeat(args.n_frames,32,1,1,1), \n",
    "             front_X.repeat(args.n_frames, 32,1,1,1), \n",
    "             acc_X.repeat(args.n_frames, 32,1), \n",
    "             comp_X.repeat(args.n_frames, 32,1), \n",
    "             gyro_X.repeat(args.n_frames, 32,1), \n",
    "             vel_X.repeat(args.n_frames, 32),\n",
    "             torch.zeros(args.n_frames, 32, dtype=torch.long))\n",
    "q_vals.shape"
   ]
  },
  {
   "cell_type": "code",
   "execution_count": 29,
   "metadata": {},
   "outputs": [
    {
     "data": {
      "text/plain": [
       "tensor([ 0.2357, -0.0686, -0.1893, -0.2140, -0.1421, -0.1445,  0.1060, -0.2821,\n",
       "        -0.0764, -0.1688,  0.0761, -0.1019,  0.0298,  0.5027,  0.3850, -0.1797,\n",
       "        -0.5263,  0.1358,  0.2195,  0.0369,  0.0747,  0.2953, -0.0650,  0.0681,\n",
       "        -0.0078,  0.2483, -0.4273, -0.0918, -0.2208,  0.3533,  0.2650],\n",
       "       grad_fn=<SelectBackward0>)"
      ]
     },
     "execution_count": 29,
     "metadata": {},
     "output_type": "execute_result"
    }
   ],
   "source": [
    "q_vals[0]"
   ]
  },
  {
   "cell_type": "code",
   "execution_count": 18,
   "metadata": {},
   "outputs": [
    {
     "data": {
      "text/plain": [
       "Embedding(35, 128)"
      ]
     },
     "execution_count": 18,
     "metadata": {},
     "output_type": "execute_result"
    }
   ],
   "source": [
    "nn.Embedding(35, 128)"
   ]
  },
  {
   "cell_type": "code",
   "execution_count": 19,
   "metadata": {},
   "outputs": [
    {
     "data": {
      "text/plain": [
       "tensor([0, 1, 2, 3, 4, 5, 6, 7, 8, 9])"
      ]
     },
     "execution_count": 19,
     "metadata": {},
     "output_type": "execute_result"
    }
   ],
   "source": [
    "torch.arange(10,device='cpu')"
   ]
  },
  {
   "cell_type": "code",
   "execution_count": 20,
   "metadata": {},
   "outputs": [
    {
     "data": {
      "text/plain": [
       "(torch.Size([2, 3]),\n",
       " tensor([[1, 2, 3],\n",
       "         [4, 5, 6]]))"
      ]
     },
     "execution_count": 20,
     "metadata": {},
     "output_type": "execute_result"
    }
   ],
   "source": [
    "x = torch.tensor([[1,2,3],[4,5,6]])\n",
    "x.shape,x"
   ]
  },
  {
   "cell_type": "code",
   "execution_count": 21,
   "metadata": {},
   "outputs": [
    {
     "data": {
      "text/plain": [
       "tensor([True, True, True])"
      ]
     },
     "execution_count": 21,
     "metadata": {},
     "output_type": "execute_result"
    }
   ],
   "source": [
    "x.unsqueeze(1).repeat(1,32,1)[0,0,:] == x[0]"
   ]
  },
  {
   "cell_type": "code",
   "execution_count": 22,
   "metadata": {},
   "outputs": [
    {
     "data": {
      "text/plain": [
       "(torch.Size([35, 32, 128]), torch.Size([35, 128]))"
      ]
     },
     "execution_count": 22,
     "metadata": {},
     "output_type": "execute_result"
    }
   ],
   "source": [
    "emb = nn.Embedding(35, 128)\n",
    "e = emb(torch.arange(35,device='cpu'))\n",
    "bacth_e = emb(torch.arange(35,device='cpu')).unsqueeze(1).repeat(1,32,1)\n",
    "bacth_e.shape, e.shape"
   ]
  },
  {
   "cell_type": "code",
   "execution_count": 23,
   "metadata": {},
   "outputs": [
    {
     "data": {
      "text/plain": [
       "torch.Size([35, 32, 128])"
      ]
     },
     "execution_count": 23,
     "metadata": {},
     "output_type": "execute_result"
    }
   ],
   "source": [
    "emb(torch.arange(35).repeat(32,1)).transpose(0,1).shape"
   ]
  },
  {
   "cell_type": "code",
   "execution_count": null,
   "metadata": {},
   "outputs": [],
   "source": [
    "steering_q_vals, throttle_q_vals, brake_q_vals, t_or_b_vals = hd_drive_net(bev_X.repeat(args.n_frames,32,1,1,1), \n",
    "             front_X.repeat(args.n_frames, 32,1,1,1), \n",
    "             acc_X.repeat(args.n_frames, 32,1), \n",
    "             comp_X.repeat(args.n_frames, 32,1), \n",
    "             gyro_X.repeat(args.n_frames, 32,1), \n",
    "             vel_X.repeat(args.n_frames, 32))"
   ]
  },
  {
   "cell_type": "code",
   "execution_count": null,
   "metadata": {},
   "outputs": [
    {
     "data": {
      "text/plain": [
       "(torch.Size([32, 11]), torch.Size([32, 11]), torch.Size([32, 11]))"
      ]
     },
     "execution_count": 9,
     "metadata": {},
     "output_type": "execute_result"
    }
   ],
   "source": [
    "steering_q_vals.shape, throttle_q_vals.shape, brake_q_vals.shape"
   ]
  },
  {
   "cell_type": "code",
   "execution_count": 25,
   "metadata": {},
   "outputs": [
    {
     "data": {
      "text/plain": [
       "(750912, 661632, 661632)"
      ]
     },
     "execution_count": 25,
     "metadata": {},
     "output_type": "execute_result"
    }
   ],
   "source": [
    "sensor_params = sum(p.numel() for p in hd_drive_net.sensor_net.parameters())\n",
    "fusion_params = sum(p.numel() for p in hd_drive_net.fusion_net.parameters())\n",
    "temporal_params = sum(p.numel() for p in hd_drive_net.temporal_net.parameters())\n",
    "# throttle_params = sum(p.numel() for p in hd_drive_net.throttle_net.parameters())\n",
    "# steering_params = sum(p.numel() for p in hd_drive_net.steering_net.parameters())\n",
    "# brake_params = sum(p.numel() for p in hd_drive_net.brake_net.parameters())\n",
    "# t_or_b_params = sum(p.numel() for p in hd_drive_net.t_or_b_net.parameters())\n",
    "sensor_params, fusion_params, temporal_params, #throttle_params, steering_params, brake_params, t_or_b_params"
   ]
  },
  {
   "cell_type": "code",
   "execution_count": null,
   "metadata": {},
   "outputs": [
    {
     "data": {
      "text/plain": [
       "2078434"
      ]
     },
     "execution_count": 11,
     "metadata": {},
     "output_type": "execute_result"
    }
   ],
   "source": [
    "sum(p.numel() for p in hd_drive_net.parameters())"
   ]
  },
  {
   "cell_type": "code",
   "execution_count": 26,
   "metadata": {},
   "outputs": [],
   "source": [
    "hd_net_args.device = 'cpu'\n",
    "agent = DQN_Agent(HDDriveDQN, hd_net_args, 32, 25_000, 4, 'hd_simple')"
   ]
  },
  {
   "cell_type": "code",
   "execution_count": 20,
   "metadata": {},
   "outputs": [],
   "source": [
    "agent.save_model(path='h_size_128_n_head_8_n_encs_f_2_n_decs_f_1_n_encs_t_2_n_decs_t_1_norm_first_True_t_dropout_0.1_c_dropout_0.3_device_cuda_img_shape_(3, 96,_96).pt')"
   ]
  },
  {
   "cell_type": "code",
   "execution_count": 44,
   "metadata": {},
   "outputs": [
    {
     "ename": "NameError",
     "evalue": "name 'args' is not defined",
     "output_type": "error",
     "traceback": [
      "\u001b[1;31m---------------------------------------------------------------------------\u001b[0m",
      "\u001b[1;31mNameError\u001b[0m                                 Traceback (most recent call last)",
      "Cell \u001b[1;32mIn [44], line 2\u001b[0m\n\u001b[0;32m      1\u001b[0m \u001b[39mwith\u001b[39;00m \u001b[39mopen\u001b[39m(\u001b[39m\"\u001b[39m\u001b[39mmyfile.txt\u001b[39m\u001b[39m\"\u001b[39m, \u001b[39m'\u001b[39m\u001b[39mw\u001b[39m\u001b[39m'\u001b[39m) \u001b[39mas\u001b[39;00m f: \n\u001b[1;32m----> 2\u001b[0m     \u001b[39mfor\u001b[39;00m key, value \u001b[39min\u001b[39;00m args\u001b[39m.\u001b[39mitems(): \n\u001b[0;32m      3\u001b[0m         f\u001b[39m.\u001b[39mwrite(\u001b[39m'\u001b[39m\u001b[39m%s\u001b[39;00m\u001b[39m:\u001b[39m\u001b[39m%s\u001b[39;00m\u001b[39m\\n\u001b[39;00m\u001b[39m'\u001b[39m \u001b[39m%\u001b[39m (key, value))\n",
      "\u001b[1;31mNameError\u001b[0m: name 'args' is not defined"
     ]
    }
   ],
   "source": [
    "with open(\"myfile.txt\", 'w') as f: \n",
    "    for key, value in args.items(): \n",
    "        f.write('%s:%s\\n' % (key, value))"
   ]
  },
  {
   "cell_type": "code",
   "execution_count": 23,
   "metadata": {},
   "outputs": [],
   "source": [
    "from torch.utils.tensorboard import SummaryWriter"
   ]
  },
  {
   "cell_type": "code",
   "execution_count": 27,
   "metadata": {},
   "outputs": [],
   "source": [
    "buffer = agent.replay_memory\n",
    "# buffer = MemoryBufferSeparated(num_frames=4, max_buffer_sz=500)"
   ]
  },
  {
   "cell_type": "code",
   "execution_count": 28,
   "metadata": {},
   "outputs": [
    {
     "data": {
      "text/plain": [
       "1"
      ]
     },
     "execution_count": 28,
     "metadata": {},
     "output_type": "execute_result"
    }
   ],
   "source": [
    "buffer.__len__()"
   ]
  },
  {
   "cell_type": "code",
   "execution_count": 29,
   "metadata": {},
   "outputs": [],
   "source": [
    "n = 100\n",
    "buffer.add_experience(state, 7, 1.0, False, new_episode=True)\n",
    "for i in range(n):\n",
    "    state['action_idx'] = random.randint(0,31)\n",
    "    buffer.add_experience(state, 7, 1.0, False)"
   ]
  },
  {
   "cell_type": "code",
   "execution_count": 30,
   "metadata": {},
   "outputs": [],
   "source": [
    "states, actions, rewards, dones = next(iter(agent.replay_memory_sampler))"
   ]
  },
  {
   "cell_type": "code",
   "execution_count": 31,
   "metadata": {},
   "outputs": [
    {
     "name": "stdout",
     "output_type": "stream",
     "text": [
      "[torch.Size([32, 5, 3, 96, 96]), torch.Size([32, 5, 3, 96, 96]), torch.Size([32, 5, 3]), torch.Size([32, 5, 1]), torch.Size([32, 5, 3]), torch.Size([32, 5]), torch.Size([32, 5])]\n"
     ]
    },
    {
     "data": {
      "text/plain": [
       "(None, torch.Size([32]), torch.Size([32]), torch.Size([32]))"
      ]
     },
     "execution_count": 31,
     "metadata": {},
     "output_type": "execute_result"
    }
   ],
   "source": [
    "print([t.shape for t in states]), actions.shape, rewards.shape, dones.shape"
   ]
  },
  {
   "cell_type": "code",
   "execution_count": 32,
   "metadata": {},
   "outputs": [],
   "source": [
    "for i, state_sensor in enumerate(states): \n",
    "    states[i] = state_sensor.transpose_(0,1).to(args.device) "
   ]
  },
  {
   "cell_type": "code",
   "execution_count": 36,
   "metadata": {},
   "outputs": [
    {
     "data": {
      "text/plain": [
       "torch.Size([32, 3, 96, 96])"
      ]
     },
     "execution_count": 36,
     "metadata": {},
     "output_type": "execute_result"
    }
   ],
   "source": [
    "states[0][0]"
   ]
  },
  {
   "cell_type": "code",
   "execution_count": 40,
   "metadata": {},
   "outputs": [],
   "source": [
    "agent.experience_replay()"
   ]
  },
  {
   "cell_type": "code",
   "execution_count": 17,
   "metadata": {},
   "outputs": [],
   "source": [
    "agent.experience_replay_split_acts()"
   ]
  },
  {
   "cell_type": "code",
   "execution_count": 42,
   "metadata": {},
   "outputs": [
    {
     "data": {
      "text/plain": [
       "12"
      ]
     },
     "execution_count": 42,
     "metadata": {},
     "output_type": "execute_result"
    }
   ],
   "source": [
    "current_state_stack = deque(maxlen=args.n_frames)\n",
    "for i in range(16):\n",
    "    current_state_stack.append(state)\n",
    "len(current_state_stack)"
   ]
  },
  {
   "cell_type": "code",
   "execution_count": null,
   "metadata": {},
   "outputs": [],
   "source": [
    "agent.get_split_action(current_state_stack, epsilon=0)"
   ]
  },
  {
   "cell_type": "code",
   "execution_count": 44,
   "metadata": {},
   "outputs": [
    {
     "name": "stdout",
     "output_type": "stream",
     "text": [
      "tensor([[0.5760, 1.8672, 1.6475, 1.2221, 0.5186, 1.7949, 1.4148, 1.7665, 1.9899,\n",
      "         1.0736, 0.9895, 1.3029, 0.4361, 0.8024, 1.7067, 1.3529, 1.5517, 0.9277,\n",
      "         0.8466, 0.6772, 1.0541, 1.2447, 1.2719, 1.4717, 1.2832, 0.4559, 1.0980,\n",
      "         1.5735, 1.0332, 1.6262, 1.3153]])\n"
     ]
    },
    {
     "data": {
      "text/plain": [
       "(8, {'steer': 0.0, 'throttle': 0.6, 'brake': 0})"
      ]
     },
     "execution_count": 44,
     "metadata": {},
     "output_type": "execute_result"
    }
   ],
   "source": [
    "agent.get_action(current_state_stack, epsilon=0)"
   ]
  },
  {
   "cell_type": "code",
   "execution_count": 125,
   "metadata": {},
   "outputs": [
    {
     "data": {
      "text/plain": [
       "([0.0, 0, 0.0], [0.0, 0.9, 0])"
      ]
     },
     "execution_count": 125,
     "metadata": {},
     "output_type": "execute_result"
    }
   ],
   "source": [
    "act_s[8], act_s[11]"
   ]
  },
  {
   "cell_type": "code",
   "execution_count": 158,
   "metadata": {},
   "outputs": [
    {
     "data": {
      "text/plain": [
       "1"
      ]
     },
     "execution_count": 158,
     "metadata": {},
     "output_type": "execute_result"
    }
   ],
   "source": [
    "random.randint(0, 1)"
   ]
  },
  {
   "cell_type": "code",
   "execution_count": null,
   "metadata": {},
   "outputs": [],
   "source": []
  }
 ],
 "metadata": {
  "kernelspec": {
   "display_name": "drive_env",
   "language": "python",
   "name": "drive_env"
  },
  "language_info": {
   "codemirror_mode": {
    "name": "ipython",
    "version": 3
   },
   "file_extension": ".py",
   "mimetype": "text/x-python",
   "name": "python",
   "nbconvert_exporter": "python",
   "pygments_lexer": "ipython3",
   "version": "3.8.10 (tags/v3.8.10:3d8993a, May  3 2021, 11:48:03) [MSC v.1928 64 bit (AMD64)]"
  },
  "orig_nbformat": 4,
  "vscode": {
   "interpreter": {
    "hash": "205595cd1daa4a192140885c104c4ea416cf31c31e44558713cd0df72bb67f19"
   }
  }
 },
 "nbformat": 4,
 "nbformat_minor": 2
}
