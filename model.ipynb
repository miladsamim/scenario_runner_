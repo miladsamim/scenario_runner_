{
 "cells": [
  {
   "cell_type": "code",
   "execution_count": 1,
   "metadata": {},
   "outputs": [],
   "source": [
    "import math\n",
    "import pickle\n",
    "import numpy as np\n",
    "import torch\n",
    "import torch.nn as nn\n",
    "import torch.nn.functional as F\n",
    "from collections import deque \n",
    "\n",
    "from model import HDDriveDQN, HDMapSensorDQN, hd_net_args\n",
    "\n",
    "from agent import MemoryBufferSimple, DQN_Agent\n",
    "import random\n",
    "import itertools\n",
    "from srunner.tools import dotdict\n",
    "%load_ext autoreload\n",
    "%autoreload 2"
   ]
  },
  {
   "cell_type": "code",
   "execution_count": 2,
   "metadata": {},
   "outputs": [
    {
     "data": {
      "text/plain": [
       "dict_keys(['frame', 'accelerometer', 'gyroscope', 'compass', 'gnss', 'velocity', 'hd_map', 'front_rgb'])"
      ]
     },
     "execution_count": 2,
     "metadata": {},
     "output_type": "execute_result"
    }
   ],
   "source": [
    "with open('state.pickle', 'rb') as fp:\n",
    "    state = pickle.load(fp)\n",
    "state.keys()"
   ]
  },
  {
   "cell_type": "code",
   "execution_count": 3,
   "metadata": {},
   "outputs": [],
   "source": [
    "h_size = 128\n",
    "hd_sensor_model = HDMapSensorDQN((3,96,96), 7, p=0.3)\n",
    "npImg_to_tensor = lambda x: torch.tensor(np.expand_dims(x.transpose(2,0,1), axis=0), dtype=torch.float32)"
   ]
  },
  {
   "cell_type": "code",
   "execution_count": 4,
   "metadata": {},
   "outputs": [
    {
     "data": {
      "text/plain": [
       "(torch.Size([1, 3, 96, 96]),\n",
       " torch.Size([1, 3, 96, 96]),\n",
       " torch.Size([1, 3]),\n",
       " torch.Size([1, 3]),\n",
       " torch.Size([1, 1]),\n",
       " torch.Size([1]))"
      ]
     },
     "execution_count": 4,
     "metadata": {},
     "output_type": "execute_result"
    }
   ],
   "source": [
    "acc_X = torch.tensor(state['accelerometer'], dtype=torch.float32).unsqueeze(0)\n",
    "comp_X = torch.tensor(state['compass'], dtype=torch.float32).unsqueeze(0)\n",
    "gyro_X = torch.tensor(state['gyroscope'], dtype=torch.float32).unsqueeze(0)\n",
    "bev_X = npImg_to_tensor(state['hd_map'])\n",
    "front_X = npImg_to_tensor(state['front_rgb'])\n",
    "vel_X = torch.tensor(state['velocity']).unsqueeze(0)\n",
    "bev_X.shape, front_X.shape, acc_X.shape, gyro_X.shape, comp_X.shape, vel_X.shape"
   ]
  },
  {
   "cell_type": "code",
   "execution_count": 5,
   "metadata": {},
   "outputs": [
    {
     "data": {
      "text/plain": [
       "(torch.Size([1, 32, 128]),\n",
       " torch.Size([1, 32, 128]),\n",
       " torch.Size([1, 32, 128]),\n",
       " torch.Size([1, 32, 128]))"
      ]
     },
     "execution_count": 5,
     "metadata": {},
     "output_type": "execute_result"
    }
   ],
   "source": [
    "bev_X_h, front_X_h, ego_X_h, vel_X_h = hd_sensor_model(bev_X.repeat(32,1,1,1), front_X.repeat(32,1,1,1), acc_X.repeat(32,1), comp_X.repeat(32,1), gyro_X.repeat(32,1), vel_X.repeat(32))\n",
    "bev_X_h.shape, front_X_h.shape, ego_X_h.shape, vel_X_h.shape"
   ]
  },
  {
   "cell_type": "code",
   "execution_count": 6,
   "metadata": {},
   "outputs": [],
   "source": [
    "args = hd_net_args\n",
    "hd_drive_net = HDDriveDQN(args)"
   ]
  },
  {
   "cell_type": "code",
   "execution_count": 7,
   "metadata": {},
   "outputs": [
    {
     "data": {
      "text/plain": [
       "torch.Size([4, 32, 3, 96, 96])"
      ]
     },
     "execution_count": 7,
     "metadata": {},
     "output_type": "execute_result"
    }
   ],
   "source": [
    "bev_X.repeat(4,32,1,1,1).shape"
   ]
  },
  {
   "cell_type": "code",
   "execution_count": 8,
   "metadata": {},
   "outputs": [],
   "source": [
    "steering_q_vals, throttle_q_vals, brake_q_vals, t_or_b_vals = hd_drive_net(bev_X.repeat(args.n_frames,32,1,1,1), \n",
    "             front_X.repeat(args.n_frames, 32,1,1,1), \n",
    "             acc_X.repeat(args.n_frames, 32,1), \n",
    "             comp_X.repeat(args.n_frames, 32,1), \n",
    "             gyro_X.repeat(args.n_frames, 32,1), \n",
    "             vel_X.repeat(args.n_frames, 32))"
   ]
  },
  {
   "cell_type": "code",
   "execution_count": 9,
   "metadata": {},
   "outputs": [
    {
     "data": {
      "text/plain": [
       "(torch.Size([32, 11]), torch.Size([32, 11]), torch.Size([32, 11]))"
      ]
     },
     "execution_count": 9,
     "metadata": {},
     "output_type": "execute_result"
    }
   ],
   "source": [
    "steering_q_vals.shape, throttle_q_vals.shape, brake_q_vals.shape"
   ]
  },
  {
   "cell_type": "code",
   "execution_count": 10,
   "metadata": {},
   "outputs": [
    {
     "data": {
      "text/plain": [
       "(750784, 661632, 661632, 1419, 1419, 1419, 129)"
      ]
     },
     "execution_count": 10,
     "metadata": {},
     "output_type": "execute_result"
    }
   ],
   "source": [
    "sensor_params = sum(p.numel() for p in hd_drive_net.sensor_net.parameters())\n",
    "fusion_params = sum(p.numel() for p in hd_drive_net.fusion_net.parameters())\n",
    "temporal_params = sum(p.numel() for p in hd_drive_net.temporal_net.parameters())\n",
    "throttle_params = sum(p.numel() for p in hd_drive_net.throttle_net.parameters())\n",
    "steering_params = sum(p.numel() for p in hd_drive_net.steering_net.parameters())\n",
    "brake_params = sum(p.numel() for p in hd_drive_net.brake_net.parameters())\n",
    "t_or_b_params = sum(p.numel() for p in hd_drive_net.t_or_b_net.parameters())\n",
    "sensor_params, fusion_params, temporal_params, throttle_params, steering_params, brake_params, t_or_b_params"
   ]
  },
  {
   "cell_type": "code",
   "execution_count": 11,
   "metadata": {},
   "outputs": [
    {
     "data": {
      "text/plain": [
       "2078434"
      ]
     },
     "execution_count": 11,
     "metadata": {},
     "output_type": "execute_result"
    }
   ],
   "source": [
    "sum(p.numel() for p in hd_drive_net.parameters())"
   ]
  },
  {
   "cell_type": "code",
   "execution_count": 12,
   "metadata": {},
   "outputs": [],
   "source": [
    "class MemoryBufferSeparated(torch.utils.data.Dataset):\n",
    "    \"\"\"Assumme that each episode has at least num_frames+1 experieneces\n",
    "       else it will be discarded. When max is reached max(10% samples,1ep) will be dropped.\"\"\"\n",
    "    def __init__(self, num_frames, max_buffer_sz=25_000):\n",
    "        self.avg_ep_len = None \n",
    "        self.ep_lengths = deque()\n",
    "        self.max_buffer_size = max_buffer_sz\n",
    "        self.ep_states = deque()\n",
    "        self.ep_actions = deque()\n",
    "        self.ep_rewards = deque()\n",
    "        self.ep_dones = deque()\n",
    "        self.active_ep_idx = -1 \n",
    "        self.num_frames = num_frames\n",
    "    \n",
    "    def __len__(self):\n",
    "        return len(self.states) - self.num_frames#sum(self.ep_lengths)\n",
    "\n",
    "    def add_experience(self, state, action, reward, done, new_episode=False):\n",
    "        \"\"\"states are at t+1, so when get_item we have to select actions, rewards one forward\"\"\"\n",
    "        if new_episode:\n",
    "            self.ep_lengths.append(0)\n",
    "            self.ep_states.append([])\n",
    "            self.ep_actions.append([])\n",
    "            self.ep_rewards.append([])\n",
    "            self.ep_dones.append([])\n",
    "\n",
    "        self.ep_lengths[-1] += 1 \n",
    "        if self.max_buffer_size < sum(self.ep_lengths):\n",
    "            self.flush_experiences()\n",
    "\n",
    "        self.ep_states[-1].append(state)\n",
    "        self.ep_actions[-1].append(action)\n",
    "        self.ep_rewards[-1].append(reward)\n",
    "        self.ep_dones[-1].append(done)\n",
    "\n",
    "    def flush_experiences(self, per=0.1):\n",
    "        to_flush = int(per*self.max_buffer_size)\n",
    "        flushed = 0\n",
    "        while flushed < to_flush:\n",
    "            flushed += self.ep_lengths.popleft()\n",
    "            self.ep_states.popleft()\n",
    "            self.ep_actions.popleft()\n",
    "            self.ep_rewards.popleft()\n",
    "            self.ep_dones.popleft()\n",
    "        \n",
    "    def _np_img_to_tensor(self, img):\n",
    "        img = np.array(img) # num_frames+1 x W x H x C\n",
    "        return torch.tensor(np.expand_dims(img.transpose(0,3,1,2), axis=0), dtype=torch.float32)\n",
    "\n",
    "    def _process_states(self, state):\n",
    "        \"\"\"This function should be passed into the class as it could depend on the\n",
    "           sensor setup. This configuration works for the HDSensor setup.\"\"\"\n",
    "        bev_X = self._np_img_to_tensor(state['hd_map'])\n",
    "        front_X = self._np_img_to_tensor(state['front_rgb'])\n",
    "        acc_x = torch.tensor(state['accelerometer'], dtype=torch.float32)\n",
    "        comp_x = torch.tensor(state['compass'], dtype=torch.float32)\n",
    "        gyr_x = torch.tensor(state['gyroscope'], dtype=torch.float32) \n",
    "        vel_X = torch.tensor(state['velocity']).unsqueeze(0)\n",
    "\n",
    "        return bev_X, front_X, acc_X, comp_X, gyr_x, vel_X\n",
    "        \n",
    "    def __getitem__(self, idx):\n",
    "        ep_idx = random.choice(range(len(self.ep_lengths)-1)) # don't sample from current ep as it might be filled out now\n",
    "        t_idx = random.choice(range(self.ep_lengths[ep_idx]-self.num_frames-1)) # -1 as we need s_t+1 also\n",
    "        end_idx = t_idx + self.num_frames + 1 # +1 as we need next state as well\n",
    "        states = self._process_states(self.ep_states[ep_idx][t_idx:end_idx])\n",
    "        action = torch.tensor(self.ep_actions[ep_idx][end_idx], dtype=torch.int64) \n",
    "        reward = torch.tensor(self.ep_rewards[ep_idx][end_idx], dtype=torch.float32)\n",
    "        dones = torch.tensor(self.ep_rewards[ep_idx][end_idx], dtype=torch.float32)\n",
    "        return states, action, reward"
   ]
  },
  {
   "cell_type": "code",
   "execution_count": 121,
   "metadata": {},
   "outputs": [],
   "source": [
    "agent = DQN_Agent(HDDriveDQN, hd_net_args, 32, 25_000, 4)"
   ]
  },
  {
   "cell_type": "code",
   "execution_count": 122,
   "metadata": {},
   "outputs": [],
   "source": [
    "buffer = agent.replay_memory"
   ]
  },
  {
   "cell_type": "code",
   "execution_count": 123,
   "metadata": {},
   "outputs": [
    {
     "data": {
      "text/plain": [
       "-5"
      ]
     },
     "execution_count": 123,
     "metadata": {},
     "output_type": "execute_result"
    }
   ],
   "source": [
    "buffer.__len__()"
   ]
  },
  {
   "cell_type": "code",
   "execution_count": 124,
   "metadata": {},
   "outputs": [],
   "source": [
    "n = 100\n",
    "for i in range(n):\n",
    "    buffer.add_experience(state, [0,0,0], 1.0, False)"
   ]
  },
  {
   "cell_type": "code",
   "execution_count": 17,
   "metadata": {},
   "outputs": [],
   "source": [
    "agent.experience_replay_split_acts()"
   ]
  },
  {
   "cell_type": "code",
   "execution_count": 125,
   "metadata": {},
   "outputs": [
    {
     "data": {
      "text/plain": [
       "4"
      ]
     },
     "execution_count": 125,
     "metadata": {},
     "output_type": "execute_result"
    }
   ],
   "source": [
    "current_state_stack = deque(maxlen=args.n_frames)\n",
    "for i in range(10):\n",
    "    current_state_stack.append(state)\n",
    "len(current_state_stack)"
   ]
  },
  {
   "cell_type": "code",
   "execution_count": 126,
   "metadata": {},
   "outputs": [
    {
     "name": "stdout",
     "output_type": "stream",
     "text": [
      "tensor([[-0.4242, -0.6750, -0.1207, -0.3252,  0.4458,  0.1979, -0.7228, -0.4736,\n",
      "          1.0720,  0.9575, -0.8715]], device='cuda:0')\n"
     ]
    },
    {
     "data": {
      "text/plain": [
       "{'steering': 0.6, 'throttle': 0.0, 'brake': 0.8}"
      ]
     },
     "execution_count": 126,
     "metadata": {},
     "output_type": "execute_result"
    }
   ],
   "source": [
    "agent.get_split_action(current_state_stack, epsilon=0)"
   ]
  },
  {
   "cell_type": "code",
   "execution_count": null,
   "metadata": {},
   "outputs": [],
   "source": []
  }
 ],
 "metadata": {
  "kernelspec": {
   "display_name": "drive_env",
   "language": "python",
   "name": "drive_env"
  },
  "language_info": {
   "codemirror_mode": {
    "name": "ipython",
    "version": 3
   },
   "file_extension": ".py",
   "mimetype": "text/x-python",
   "name": "python",
   "nbconvert_exporter": "python",
   "pygments_lexer": "ipython3",
   "version": "3.8.10"
  },
  "orig_nbformat": 4,
  "vscode": {
   "interpreter": {
    "hash": "205595cd1daa4a192140885c104c4ea416cf31c31e44558713cd0df72bb67f19"
   }
  }
 },
 "nbformat": 4,
 "nbformat_minor": 2
}
